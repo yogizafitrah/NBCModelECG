{
 "cells": [
  {
   "cell_type": "code",
   "execution_count": 1,
   "metadata": {},
   "outputs": [],
   "source": [
    "import numpy as np\n",
    "import pandas as pd\n",
    "from sklearn.naive_bayes import GaussianNB\n",
    "from sklearn.preprocessing import LabelEncoder\n",
    "from sklearn.model_selection import train_test_split\n",
    "from sklearn.metrics import accuracy_score"
   ]
  },
  {
   "cell_type": "code",
   "execution_count": 2,
   "metadata": {},
   "outputs": [
    {
     "data": {
      "text/html": [
       "<div>\n",
       "<style scoped>\n",
       "    .dataframe tbody tr th:only-of-type {\n",
       "        vertical-align: middle;\n",
       "    }\n",
       "\n",
       "    .dataframe tbody tr th {\n",
       "        vertical-align: top;\n",
       "    }\n",
       "\n",
       "    .dataframe thead th {\n",
       "        text-align: right;\n",
       "    }\n",
       "</style>\n",
       "<table border=\"1\" class=\"dataframe\">\n",
       "  <thead>\n",
       "    <tr style=\"text-align: right;\">\n",
       "      <th></th>\n",
       "      <th>Interval PT</th>\n",
       "      <th>Bpm</th>\n",
       "      <th>RR</th>\n",
       "      <th>RR Lokal</th>\n",
       "      <th>Status</th>\n",
       "    </tr>\n",
       "  </thead>\n",
       "  <tbody>\n",
       "    <tr>\n",
       "      <th>0</th>\n",
       "      <td>0.66976</td>\n",
       "      <td>62.83394</td>\n",
       "      <td>1.00300</td>\n",
       "      <td>286.31864</td>\n",
       "      <td>Normal</td>\n",
       "    </tr>\n",
       "    <tr>\n",
       "      <th>1</th>\n",
       "      <td>0.48400</td>\n",
       "      <td>51.84000</td>\n",
       "      <td>1.26777</td>\n",
       "      <td>347.04059</td>\n",
       "      <td>Normal</td>\n",
       "    </tr>\n",
       "    <tr>\n",
       "      <th>2</th>\n",
       "      <td>0.48000</td>\n",
       "      <td>60.36900</td>\n",
       "      <td>1.01900</td>\n",
       "      <td>297.88200</td>\n",
       "      <td>Normal</td>\n",
       "    </tr>\n",
       "    <tr>\n",
       "      <th>3</th>\n",
       "      <td>0.56650</td>\n",
       "      <td>46.40001</td>\n",
       "      <td>1.05100</td>\n",
       "      <td>302.84840</td>\n",
       "      <td>Normal</td>\n",
       "    </tr>\n",
       "    <tr>\n",
       "      <th>4</th>\n",
       "      <td>0.40590</td>\n",
       "      <td>64.02471</td>\n",
       "      <td>1.04100</td>\n",
       "      <td>280.95110</td>\n",
       "      <td>Abnormal</td>\n",
       "    </tr>\n",
       "  </tbody>\n",
       "</table>\n",
       "</div>"
      ],
      "text/plain": [
       "   Interval PT       Bpm       RR   RR Lokal    Status\n",
       "0      0.66976  62.83394  1.00300  286.31864    Normal\n",
       "1      0.48400  51.84000  1.26777  347.04059    Normal\n",
       "2      0.48000  60.36900  1.01900  297.88200    Normal\n",
       "3      0.56650  46.40001  1.05100  302.84840    Normal\n",
       "4      0.40590  64.02471  1.04100  280.95110  Abnormal"
      ]
     },
     "execution_count": 2,
     "metadata": {},
     "output_type": "execute_result"
    }
   ],
   "source": [
    "data_rekam = pd.read_csv(\"data/datatrainingns(post-new)4.csv\")\n",
    "data_rekam.head()"
   ]
  },
  {
   "cell_type": "code",
   "execution_count": 3,
   "metadata": {},
   "outputs": [],
   "source": [
    "# number = LabelEncoder()\n",
    "# data_rekam['Interval PT'] = number.fit_transform(data_rekam['Interval PT'])\n",
    "# data_rekam['Bpm'] = number.fit_transform(data_rekam['Bpm'])\n",
    "# data_rekam['RR'] = number.fit_transform(data_rekam['RR'])\n",
    "# data_rekam['RR Lokal'] = number.fit_transform(data_rekam['RR Lokal'])\n",
    "# data_rekam['Status'] = number.fit_transform(data_rekam['Status'])"
   ]
  },
  {
   "cell_type": "code",
   "execution_count": 4,
   "metadata": {},
   "outputs": [
    {
     "name": "stdout",
     "output_type": "stream",
     "text": [
      "    Interval PT       Bpm       RR   RR Lokal\n",
      "0       0.66976  62.83394  1.00300  286.31864\n",
      "1       0.48400  51.84000  1.26777  347.04059\n",
      "2       0.48000  60.36900  1.01900  297.88200\n",
      "3       0.56650  46.40001  1.05100  302.84840\n",
      "4       0.40590  64.02471  1.04100  280.95110\n",
      "..          ...       ...      ...        ...\n",
      "95      0.60268  49.75655  0.98770  272.89781\n",
      "96      0.45672  53.76100  1.34122  253.88333\n",
      "97      0.45201  53.75925  1.00238  253.30000\n",
      "98      0.43580  59.60264  1.12057  296.86275\n",
      "99      0.39141  60.18894  1.24221  294.73786\n",
      "\n",
      "[100 rows x 4 columns]\n"
     ]
    }
   ],
   "source": [
    "features = [\"Interval PT\", \"Bpm\", \"RR\", \"RR Lokal\"]\n",
    "target = \"Status\"\n",
    "\n",
    "# x = data_rekam.iloc[:,1:5].values\n",
    "# y = data_rekam.iloc[:,5].values\n",
    "\n",
    "x = data_rekam.loc[:, data_rekam.columns != 'Status']\n",
    "y = data_rekam['Status']\n",
    "\n",
    "\n",
    "\n",
    "print(x)"
   ]
  },
  {
   "cell_type": "code",
   "execution_count": 5,
   "metadata": {},
   "outputs": [
    {
     "data": {
      "text/plain": [
       "GaussianNB()"
      ]
     },
     "execution_count": 5,
     "metadata": {},
     "output_type": "execute_result"
    }
   ],
   "source": [
    "#Split Data\n",
    "# features_train, features_test, target_train, target_test = train_test_split(data_rekam[features],\n",
    "# data_rekam[target],\n",
    "# test_size = 0.33,\n",
    "# random_state = 54)\n",
    "x_train, x_test, y_train, y_test = train_test_split(x,\n",
    "y,\n",
    "test_size = 0.33,\n",
    "random_state = 54)\n",
    "\n",
    "model = GaussianNB()\n",
    "model.fit(x_train, y_train)"
   ]
  },
  {
   "cell_type": "code",
   "execution_count": 6,
   "metadata": {},
   "outputs": [
    {
     "name": "stdout",
     "output_type": "stream",
     "text": [
      "0.9393939393939394\n"
     ]
    }
   ],
   "source": [
    "pred = model.predict(x_test)\n",
    "accuracy = accuracy_score(y_test, pred)\n",
    "print(accuracy)"
   ]
  },
  {
   "cell_type": "code",
   "execution_count": 7,
   "metadata": {},
   "outputs": [
    {
     "data": {
      "text/plain": [
       "array(['Normal'], dtype='<U8')"
      ]
     },
     "execution_count": 7,
     "metadata": {},
     "output_type": "execute_result"
    }
   ],
   "source": [
    "model.predict([[0.48,50.3,1.1,280.84840]])"
   ]
  },
  {
   "cell_type": "code",
   "execution_count": null,
   "metadata": {},
   "outputs": [],
   "source": []
  },
  {
   "cell_type": "code",
   "execution_count": null,
   "metadata": {},
   "outputs": [],
   "source": []
  }
 ],
 "metadata": {
  "kernelspec": {
   "display_name": "Python 3",
   "language": "python",
   "name": "python3"
  },
  "language_info": {
   "codemirror_mode": {
    "name": "ipython",
    "version": 3
   },
   "file_extension": ".py",
   "mimetype": "text/x-python",
   "name": "python",
   "nbconvert_exporter": "python",
   "pygments_lexer": "ipython3",
   "version": "3.8.5"
  }
 },
 "nbformat": 4,
 "nbformat_minor": 4
}
